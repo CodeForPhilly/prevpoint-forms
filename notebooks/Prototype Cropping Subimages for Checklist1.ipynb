{
 "cells": [
  {
   "cell_type": "markdown",
   "metadata": {},
   "source": [
    "# Prototype for Subimage Cropping for Checklist1"
   ]
  },
  {
   "cell_type": "markdown",
   "metadata": {},
   "source": [
    "## How to figure out the location of a box\n",
    "\n",
    "1. Open an image editing program. \n",
    "2. Use the rectange select tool to select the largest possible area corresponding to the variable you are trying to bound. \n",
    "3. Record the position and size in pixels \n",
    "\n",
    "![finding box locations](images/references/find_boxes.gif)\n"
   ]
  },
  {
   "cell_type": "code",
   "execution_count": 6,
   "metadata": {},
   "outputs": [],
   "source": [
    "#import image class from Pillow\n",
    "from PIL import Image"
   ]
  },
  {
   "cell_type": "code",
   "execution_count": 16,
   "metadata": {},
   "outputs": [],
   "source": [
    "#create list of sub images with origin locations and size on prototype form\n",
    "sub_images = {\n",
    "                \"Name\": \n",
    "                    {\"origin\": {\"x\": 441, \"y\": 259},\n",
    "                     \"size\" : {\"width\": 890, \"height\": 187}},\n",
    "                 \"DOB\":\n",
    "                    {\"origin\": {\"x\": 1452, \"y\": 254},\n",
    "                     \"size\" : {\"width\": 297, \"height\": 169}},\n",
    "                 \"Unique_id\":\n",
    "                    {\"origin\": {\"x\": 1935, \"y\": 17},\n",
    "                     \"size\" : {\"width\": 617, \"height\": 368}},\n",
    "                 \"Date\":\n",
    "                    {\"origin\": {\"x\": 1320, \"y\": 2272},\n",
    "                     \"size\" : {\"width\": 319, \"height\": 165}},\n",
    "                 \"Staff\":\n",
    "                    {\"origin\": {\"x\": 1826, \"y\": 2277},\n",
    "                     \"size\" : {\"width\": 715, \"height\": 171}},\n",
    "                 \"UnitsShown\":\n",
    "                    {\"origin\": {\"x\": 2184, \"y\": 2442},\n",
    "                     \"size\" : {\"width\": 242, \"height\": 143}},\n",
    "                 \"LotNum\":\n",
    "                    {\"origin\": {\"x\": 2041, \"y\": 2541},\n",
    "                     \"size\" : {\"width\": 379, \"height\": 165}},\n",
    "                 \"ExpDate\":\n",
    "                    {\"origin\": {\"x\": 2118, \"y\": 2662},\n",
    "                     \"size\" : {\"width\": 291, \"height\": 127}}\n",
    "             }"
   ]
  },
  {
   "cell_type": "code",
   "execution_count": 17,
   "metadata": {},
   "outputs": [],
   "source": [
    "#path where images are stored\n",
    "images_path = \"images\"\n",
    "#path to folder to store subimages \n",
    "sub_image_path = images_path +  \"/sub_images/\"\n",
    "#path to individual image\n",
    "this_image_path = \"/Checklist 0.jpeg\"\n",
    "\n",
    "#current form to scan\n",
    "img = Image.open(images_path + this_image_path)\n",
    "\n",
    "#crop all sub images\n",
    "for sub_image in sub_images.keys():\n",
    "    #create name to save sub image under\n",
    "    sub_image_name = str(sub_image) + \".jpeg\"\n",
    "    #create bounding box\n",
    "    bounding_box = (sub_images[sub_image][\"origin\"][\"x\"], \n",
    "                    sub_images[sub_image][\"origin\"][\"y\"],\n",
    "                    sub_images[sub_image][\"origin\"][\"x\"] + sub_images[sub_image][\"size\"][\"width\"],\n",
    "                    sub_images[sub_image][\"origin\"][\"y\"] + sub_images[sub_image][\"size\"][\"height\"])\n",
    "    #crop the image\n",
    "    temp_img = img.crop(bounding_box)\n",
    "    #save the image\n",
    "    temp_img.save(sub_image_path + sub_image_name)\n",
    "    "
   ]
  }
 ],
 "metadata": {
  "kernelspec": {
   "display_name": "Python 3",
   "language": "python",
   "name": "python3"
  },
  "language_info": {
   "codemirror_mode": {
    "name": "ipython",
    "version": 3
   },
   "file_extension": ".py",
   "mimetype": "text/x-python",
   "name": "python",
   "nbconvert_exporter": "python",
   "pygments_lexer": "ipython3",
   "version": "3.7.4"
  }
 },
 "nbformat": 4,
 "nbformat_minor": 2
}
